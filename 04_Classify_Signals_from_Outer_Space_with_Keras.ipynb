{
  "nbformat": 4,
  "nbformat_minor": 0,
  "metadata": {
    "colab": {
      "name": "04_Classify_Signals_from_Outer_Space_with_Keras.ipynb",
      "provenance": [],
      "authorship_tag": "ABX9TyPnMNXSTASnGqneABXReh02",
      "include_colab_link": true
    },
    "kernelspec": {
      "name": "python3",
      "display_name": "Python 3"
    },
    "accelerator": "GPU"
  },
  "cells": [
    {
      "cell_type": "markdown",
      "metadata": {
        "id": "view-in-github",
        "colab_type": "text"
      },
      "source": [
        "<a href=\"https://colab.research.google.com/github/mohd-faizy/04P_Classify_Radio_Signals_from_Outer_Space_using_Keras/blob/master/04_Classify_Signals_from_Outer_Space_with_Keras.ipynb\" target=\"_parent\"><img src=\"https://colab.research.google.com/assets/colab-badge.svg\" alt=\"Open In Colab\"/></a>"
      ]
    },
    {
      "cell_type": "markdown",
      "metadata": {
        "id": "KRuBMk__OyeF",
        "colab_type": "text"
      },
      "source": [
        "# __Classify Signals from Outer Space with Keras__"
      ]
    },
    {
      "cell_type": "markdown",
      "metadata": {
        "id": "0Dqj1t3c74Vj",
        "colab_type": "text"
      },
      "source": [
        "> The Goal of this project is $\\Rightarrow$ How we can treat the __Time Series Forecast__ problems such as __Signal Processing__ & Transform them to image classification problem & then solve them using __CNNs__ [__Keras__] insted of using __Recurrent Neural Networks (RNNs).__"
      ]
    },
    {
      "cell_type": "markdown",
      "metadata": {
        "id": "-jPQ8v4KN8Q8",
        "colab_type": "text"
      },
      "source": [
        "<center><img src='http://blog.yavilevich.com/wp-content/uploads/2016/08/fosphor2-cut.png' width=700 height=200></center>"
      ]
    },
    {
      "cell_type": "markdown",
      "metadata": {
        "id": "Sn5v-FW-hEpb",
        "colab_type": "text"
      },
      "source": [
        "### __SETI Dataset:__ [__Click here__](https://drive.google.com/file/d/1R2BlsYydirhMmf89_D1imOT5aVvkXHi2/view?usp=sharing)"
      ]
    },
    {
      "cell_type": "code",
      "metadata": {
        "id": "9EHPpSwZ6FQq",
        "colab_type": "code",
        "colab": {}
      },
      "source": [
        "# Mounting the Drive to Google colab\n",
        "from google.colab import drive\n",
        "drive.mount('/content/drive')"
      ],
      "execution_count": null,
      "outputs": []
    },
    {
      "cell_type": "markdown",
      "metadata": {
        "id": "3RJ30pETMoYs",
        "colab_type": "text"
      },
      "source": [
        "\n",
        "\n",
        "```\n",
        "!unzip -uq \"source\" -d \"destination\"\n",
        "```\n",
        "\n"
      ]
    },
    {
      "cell_type": "code",
      "metadata": {
        "id": "lONas0qtMhbq",
        "colab_type": "code",
        "colab": {}
      },
      "source": [
        "!unzip -uq \"/content/drive/My Drive/Colab Notebooks/7_Coursera_Projects_Network/04_Classify_Signals_from_Outer_Space_with_Keras/dataset.zip\" -d \"/content/sample_data\""
      ],
      "execution_count": 2,
      "outputs": []
    },
    {
      "cell_type": "code",
      "metadata": {
        "id": "7SMd0nOSQ0z0",
        "colab_type": "code",
        "colab": {}
      },
      "source": [
        "# Changing the working directory\n",
        "import os\n",
        "os.chdir('/content/sample_data')"
      ],
      "execution_count": 3,
      "outputs": []
    },
    {
      "cell_type": "markdown",
      "metadata": {
        "id": "FOS_fOLXSz8_",
        "colab_type": "text"
      },
      "source": [
        "## __Installing the Dependencies__"
      ]
    },
    {
      "cell_type": "code",
      "metadata": {
        "id": "ZK7mwS6eQ39W",
        "colab_type": "code",
        "colab": {}
      },
      "source": [
        "pip install livelossplot"
      ],
      "execution_count": null,
      "outputs": []
    },
    {
      "cell_type": "markdown",
      "metadata": {
        "id": "7C0y3GZ1TH9Q",
        "colab_type": "text"
      },
      "source": [
        "# __1. Importing Libraries__"
      ]
    },
    {
      "cell_type": "code",
      "metadata": {
        "id": "ZOhRlMjARRYa",
        "colab_type": "code",
        "colab": {
          "base_uri": "https://localhost:8080/",
          "height": 34
        },
        "outputId": "8c9200fa-27a1-4ef5-be86-dad82af44b72"
      },
      "source": [
        "import pandas as pd\n",
        "import numpy as np\n",
        "import matplotlib.pyplot as plt\n",
        "\n",
        "import tensorflow as tf\n",
        "\n",
        "from sklearn.metrics import confusion_matrix\n",
        "from sklearn import metrics\n",
        "\n",
        "import numpy as np\n",
        "np.random.seed(42)\n",
        "import warnings;warnings.simplefilter('ignore')\n",
        "%matplotlib inline\n",
        "print('Tensorflow version:', tf.__version__)"
      ],
      "execution_count": 5,
      "outputs": [
        {
          "output_type": "stream",
          "text": [
            "Tensorflow version: 2.2.0\n"
          ],
          "name": "stdout"
        }
      ]
    },
    {
      "cell_type": "markdown",
      "metadata": {
        "id": "C_tmu2lOTTvI",
        "colab_type": "text"
      },
      "source": [
        "# __2. Load and Preprocess SETI Data__"
      ]
    },
    {
      "cell_type": "code",
      "metadata": {
        "id": "zMraCuBSRRVx",
        "colab_type": "code",
        "colab": {}
      },
      "source": [
        "train_images = pd.read_csv('dataset/train/images.csv', header=None)\n",
        "train_labels = pd.read_csv('dataset/train/labels.csv', header=None)\n",
        "\n",
        "val_images = pd.read_csv('dataset/validation/images.csv', header=None)\n",
        "val_labels = pd.read_csv('dataset/validation/labels.csv', header=None)"
      ],
      "execution_count": 6,
      "outputs": []
    },
    {
      "cell_type": "code",
      "metadata": {
        "id": "96UhXe8fWSQU",
        "colab_type": "code",
        "colab": {
          "base_uri": "https://localhost:8080/",
          "height": 396
        },
        "outputId": "e837d4ee-1762-4f5c-8367-1e2baf80bc65"
      },
      "source": [
        "# All the values in the image.csv are normalised to lie in range 0 & 1\n",
        "train_images.head(10) # No Column Name - These are all Pixel intensity values"
      ],
      "execution_count": 54,
      "outputs": [
        {
          "output_type": "execute_result",
          "data": {
            "text/html": [
              "<div>\n",
              "<style scoped>\n",
              "    .dataframe tbody tr th:only-of-type {\n",
              "        vertical-align: middle;\n",
              "    }\n",
              "\n",
              "    .dataframe tbody tr th {\n",
              "        vertical-align: top;\n",
              "    }\n",
              "\n",
              "    .dataframe thead th {\n",
              "        text-align: right;\n",
              "    }\n",
              "</style>\n",
              "<table border=\"1\" class=\"dataframe\">\n",
              "  <thead>\n",
              "    <tr style=\"text-align: right;\">\n",
              "      <th></th>\n",
              "      <th>0</th>\n",
              "      <th>1</th>\n",
              "      <th>2</th>\n",
              "      <th>3</th>\n",
              "      <th>4</th>\n",
              "      <th>5</th>\n",
              "      <th>6</th>\n",
              "      <th>7</th>\n",
              "      <th>8</th>\n",
              "      <th>9</th>\n",
              "      <th>10</th>\n",
              "      <th>11</th>\n",
              "      <th>12</th>\n",
              "      <th>13</th>\n",
              "      <th>14</th>\n",
              "      <th>15</th>\n",
              "      <th>16</th>\n",
              "      <th>17</th>\n",
              "      <th>18</th>\n",
              "      <th>19</th>\n",
              "      <th>20</th>\n",
              "      <th>21</th>\n",
              "      <th>22</th>\n",
              "      <th>23</th>\n",
              "      <th>24</th>\n",
              "      <th>25</th>\n",
              "      <th>26</th>\n",
              "      <th>27</th>\n",
              "      <th>28</th>\n",
              "      <th>29</th>\n",
              "      <th>30</th>\n",
              "      <th>31</th>\n",
              "      <th>32</th>\n",
              "      <th>33</th>\n",
              "      <th>34</th>\n",
              "      <th>35</th>\n",
              "      <th>36</th>\n",
              "      <th>37</th>\n",
              "      <th>38</th>\n",
              "      <th>39</th>\n",
              "      <th>...</th>\n",
              "      <th>8152</th>\n",
              "      <th>8153</th>\n",
              "      <th>8154</th>\n",
              "      <th>8155</th>\n",
              "      <th>8156</th>\n",
              "      <th>8157</th>\n",
              "      <th>8158</th>\n",
              "      <th>8159</th>\n",
              "      <th>8160</th>\n",
              "      <th>8161</th>\n",
              "      <th>8162</th>\n",
              "      <th>8163</th>\n",
              "      <th>8164</th>\n",
              "      <th>8165</th>\n",
              "      <th>8166</th>\n",
              "      <th>8167</th>\n",
              "      <th>8168</th>\n",
              "      <th>8169</th>\n",
              "      <th>8170</th>\n",
              "      <th>8171</th>\n",
              "      <th>8172</th>\n",
              "      <th>8173</th>\n",
              "      <th>8174</th>\n",
              "      <th>8175</th>\n",
              "      <th>8176</th>\n",
              "      <th>8177</th>\n",
              "      <th>8178</th>\n",
              "      <th>8179</th>\n",
              "      <th>8180</th>\n",
              "      <th>8181</th>\n",
              "      <th>8182</th>\n",
              "      <th>8183</th>\n",
              "      <th>8184</th>\n",
              "      <th>8185</th>\n",
              "      <th>8186</th>\n",
              "      <th>8187</th>\n",
              "      <th>8188</th>\n",
              "      <th>8189</th>\n",
              "      <th>8190</th>\n",
              "      <th>8191</th>\n",
              "    </tr>\n",
              "  </thead>\n",
              "  <tbody>\n",
              "    <tr>\n",
              "      <th>0</th>\n",
              "      <td>0.631373</td>\n",
              "      <td>0.623529</td>\n",
              "      <td>0.713726</td>\n",
              "      <td>0.705882</td>\n",
              "      <td>0.658824</td>\n",
              "      <td>0.666667</td>\n",
              "      <td>0.654902</td>\n",
              "      <td>0.635294</td>\n",
              "      <td>0.647059</td>\n",
              "      <td>0.705882</td>\n",
              "      <td>0.729412</td>\n",
              "      <td>0.725490</td>\n",
              "      <td>0.619608</td>\n",
              "      <td>0.674510</td>\n",
              "      <td>0.643137</td>\n",
              "      <td>0.705882</td>\n",
              "      <td>0.713726</td>\n",
              "      <td>0.658824</td>\n",
              "      <td>0.615686</td>\n",
              "      <td>0.690196</td>\n",
              "      <td>0.654902</td>\n",
              "      <td>0.525490</td>\n",
              "      <td>0.556863</td>\n",
              "      <td>0.541176</td>\n",
              "      <td>0.482353</td>\n",
              "      <td>0.588235</td>\n",
              "      <td>0.615686</td>\n",
              "      <td>0.600000</td>\n",
              "      <td>0.603922</td>\n",
              "      <td>0.627451</td>\n",
              "      <td>0.678431</td>\n",
              "      <td>0.658824</td>\n",
              "      <td>0.698039</td>\n",
              "      <td>0.576471</td>\n",
              "      <td>0.678431</td>\n",
              "      <td>0.686275</td>\n",
              "      <td>0.690196</td>\n",
              "      <td>0.705882</td>\n",
              "      <td>0.705882</td>\n",
              "      <td>0.643137</td>\n",
              "      <td>...</td>\n",
              "      <td>0.650980</td>\n",
              "      <td>0.666667</td>\n",
              "      <td>0.666667</td>\n",
              "      <td>0.709804</td>\n",
              "      <td>0.682353</td>\n",
              "      <td>0.682353</td>\n",
              "      <td>0.682353</td>\n",
              "      <td>0.658824</td>\n",
              "      <td>0.682353</td>\n",
              "      <td>0.643137</td>\n",
              "      <td>0.627451</td>\n",
              "      <td>0.623529</td>\n",
              "      <td>0.650980</td>\n",
              "      <td>0.721569</td>\n",
              "      <td>0.627451</td>\n",
              "      <td>0.635294</td>\n",
              "      <td>0.709804</td>\n",
              "      <td>0.690196</td>\n",
              "      <td>0.678431</td>\n",
              "      <td>0.647059</td>\n",
              "      <td>0.658824</td>\n",
              "      <td>0.682353</td>\n",
              "      <td>0.654902</td>\n",
              "      <td>0.694118</td>\n",
              "      <td>0.741176</td>\n",
              "      <td>0.678431</td>\n",
              "      <td>0.662745</td>\n",
              "      <td>0.729412</td>\n",
              "      <td>0.694118</td>\n",
              "      <td>0.647059</td>\n",
              "      <td>0.682353</td>\n",
              "      <td>0.611765</td>\n",
              "      <td>0.650980</td>\n",
              "      <td>0.658824</td>\n",
              "      <td>0.600000</td>\n",
              "      <td>0.603922</td>\n",
              "      <td>0.654902</td>\n",
              "      <td>0.694118</td>\n",
              "      <td>0.658824</td>\n",
              "      <td>0.666667</td>\n",
              "    </tr>\n",
              "    <tr>\n",
              "      <th>1</th>\n",
              "      <td>0.725490</td>\n",
              "      <td>0.752941</td>\n",
              "      <td>0.749020</td>\n",
              "      <td>0.701961</td>\n",
              "      <td>0.690196</td>\n",
              "      <td>0.721569</td>\n",
              "      <td>0.709804</td>\n",
              "      <td>0.745098</td>\n",
              "      <td>0.654902</td>\n",
              "      <td>0.721569</td>\n",
              "      <td>0.678431</td>\n",
              "      <td>0.709804</td>\n",
              "      <td>0.713726</td>\n",
              "      <td>0.686275</td>\n",
              "      <td>0.717647</td>\n",
              "      <td>0.713726</td>\n",
              "      <td>0.694118</td>\n",
              "      <td>0.690196</td>\n",
              "      <td>0.721569</td>\n",
              "      <td>0.701961</td>\n",
              "      <td>0.698039</td>\n",
              "      <td>0.713726</td>\n",
              "      <td>0.705882</td>\n",
              "      <td>0.756863</td>\n",
              "      <td>0.756863</td>\n",
              "      <td>0.694118</td>\n",
              "      <td>0.650980</td>\n",
              "      <td>0.674510</td>\n",
              "      <td>0.752941</td>\n",
              "      <td>0.725490</td>\n",
              "      <td>0.725490</td>\n",
              "      <td>0.760784</td>\n",
              "      <td>0.678431</td>\n",
              "      <td>0.717647</td>\n",
              "      <td>0.725490</td>\n",
              "      <td>0.682353</td>\n",
              "      <td>0.709804</td>\n",
              "      <td>0.729412</td>\n",
              "      <td>0.721569</td>\n",
              "      <td>0.717647</td>\n",
              "      <td>...</td>\n",
              "      <td>0.686275</td>\n",
              "      <td>0.670588</td>\n",
              "      <td>0.713726</td>\n",
              "      <td>0.733333</td>\n",
              "      <td>0.725490</td>\n",
              "      <td>0.694118</td>\n",
              "      <td>0.694118</td>\n",
              "      <td>0.686275</td>\n",
              "      <td>0.674510</td>\n",
              "      <td>0.729412</td>\n",
              "      <td>0.721569</td>\n",
              "      <td>0.701961</td>\n",
              "      <td>0.682353</td>\n",
              "      <td>0.709804</td>\n",
              "      <td>0.756863</td>\n",
              "      <td>0.698039</td>\n",
              "      <td>0.729412</td>\n",
              "      <td>0.721569</td>\n",
              "      <td>0.674510</td>\n",
              "      <td>0.698039</td>\n",
              "      <td>0.725490</td>\n",
              "      <td>0.733333</td>\n",
              "      <td>0.666667</td>\n",
              "      <td>0.682353</td>\n",
              "      <td>0.701961</td>\n",
              "      <td>0.737255</td>\n",
              "      <td>0.745098</td>\n",
              "      <td>0.725490</td>\n",
              "      <td>0.698039</td>\n",
              "      <td>0.650980</td>\n",
              "      <td>0.721569</td>\n",
              "      <td>0.698039</td>\n",
              "      <td>0.721569</td>\n",
              "      <td>0.686275</td>\n",
              "      <td>0.713726</td>\n",
              "      <td>0.682353</td>\n",
              "      <td>0.690196</td>\n",
              "      <td>0.698039</td>\n",
              "      <td>0.701961</td>\n",
              "      <td>0.725490</td>\n",
              "    </tr>\n",
              "    <tr>\n",
              "      <th>2</th>\n",
              "      <td>0.717647</td>\n",
              "      <td>0.701961</td>\n",
              "      <td>0.713726</td>\n",
              "      <td>0.733333</td>\n",
              "      <td>0.705882</td>\n",
              "      <td>0.717647</td>\n",
              "      <td>0.725490</td>\n",
              "      <td>0.682353</td>\n",
              "      <td>0.717647</td>\n",
              "      <td>0.674510</td>\n",
              "      <td>0.690196</td>\n",
              "      <td>0.670588</td>\n",
              "      <td>0.662745</td>\n",
              "      <td>0.666667</td>\n",
              "      <td>0.713726</td>\n",
              "      <td>0.701961</td>\n",
              "      <td>0.721569</td>\n",
              "      <td>0.713726</td>\n",
              "      <td>0.662745</td>\n",
              "      <td>0.698039</td>\n",
              "      <td>0.682353</td>\n",
              "      <td>0.639216</td>\n",
              "      <td>0.717647</td>\n",
              "      <td>0.658824</td>\n",
              "      <td>0.674510</td>\n",
              "      <td>0.639216</td>\n",
              "      <td>0.643137</td>\n",
              "      <td>0.635294</td>\n",
              "      <td>0.654902</td>\n",
              "      <td>0.682353</td>\n",
              "      <td>0.639216</td>\n",
              "      <td>0.733333</td>\n",
              "      <td>0.690196</td>\n",
              "      <td>0.658824</td>\n",
              "      <td>0.686275</td>\n",
              "      <td>0.658824</td>\n",
              "      <td>0.690196</td>\n",
              "      <td>0.698039</td>\n",
              "      <td>0.709804</td>\n",
              "      <td>0.650980</td>\n",
              "      <td>...</td>\n",
              "      <td>0.533333</td>\n",
              "      <td>0.572549</td>\n",
              "      <td>0.537255</td>\n",
              "      <td>0.549020</td>\n",
              "      <td>0.670588</td>\n",
              "      <td>0.690196</td>\n",
              "      <td>0.670588</td>\n",
              "      <td>0.643137</td>\n",
              "      <td>0.662745</td>\n",
              "      <td>0.713726</td>\n",
              "      <td>0.717647</td>\n",
              "      <td>0.721569</td>\n",
              "      <td>0.709804</td>\n",
              "      <td>0.674510</td>\n",
              "      <td>0.709804</td>\n",
              "      <td>0.686275</td>\n",
              "      <td>0.658824</td>\n",
              "      <td>0.694118</td>\n",
              "      <td>0.698039</td>\n",
              "      <td>0.694118</td>\n",
              "      <td>0.678431</td>\n",
              "      <td>0.678431</td>\n",
              "      <td>0.690196</td>\n",
              "      <td>0.662745</td>\n",
              "      <td>0.650980</td>\n",
              "      <td>0.650980</td>\n",
              "      <td>0.686275</td>\n",
              "      <td>0.631373</td>\n",
              "      <td>0.666667</td>\n",
              "      <td>0.701961</td>\n",
              "      <td>0.709804</td>\n",
              "      <td>0.694118</td>\n",
              "      <td>0.705882</td>\n",
              "      <td>0.682353</td>\n",
              "      <td>0.639216</td>\n",
              "      <td>0.713726</td>\n",
              "      <td>0.670588</td>\n",
              "      <td>0.678431</td>\n",
              "      <td>0.737255</td>\n",
              "      <td>0.674510</td>\n",
              "    </tr>\n",
              "    <tr>\n",
              "      <th>3</th>\n",
              "      <td>0.705882</td>\n",
              "      <td>0.674510</td>\n",
              "      <td>0.654902</td>\n",
              "      <td>0.678431</td>\n",
              "      <td>0.666667</td>\n",
              "      <td>0.662745</td>\n",
              "      <td>0.678431</td>\n",
              "      <td>0.662745</td>\n",
              "      <td>0.686275</td>\n",
              "      <td>0.686275</td>\n",
              "      <td>0.631373</td>\n",
              "      <td>0.650980</td>\n",
              "      <td>0.670588</td>\n",
              "      <td>0.737255</td>\n",
              "      <td>0.674510</td>\n",
              "      <td>0.615686</td>\n",
              "      <td>0.670588</td>\n",
              "      <td>0.705882</td>\n",
              "      <td>0.686275</td>\n",
              "      <td>0.678431</td>\n",
              "      <td>0.694118</td>\n",
              "      <td>0.647059</td>\n",
              "      <td>0.662745</td>\n",
              "      <td>0.682353</td>\n",
              "      <td>0.654902</td>\n",
              "      <td>0.721569</td>\n",
              "      <td>0.709804</td>\n",
              "      <td>0.631373</td>\n",
              "      <td>0.670588</td>\n",
              "      <td>0.674510</td>\n",
              "      <td>0.701961</td>\n",
              "      <td>0.725490</td>\n",
              "      <td>0.666667</td>\n",
              "      <td>0.647059</td>\n",
              "      <td>0.733333</td>\n",
              "      <td>0.682353</td>\n",
              "      <td>0.678431</td>\n",
              "      <td>0.603922</td>\n",
              "      <td>0.666667</td>\n",
              "      <td>0.713726</td>\n",
              "      <td>...</td>\n",
              "      <td>0.670588</td>\n",
              "      <td>0.705882</td>\n",
              "      <td>0.749020</td>\n",
              "      <td>0.662745</td>\n",
              "      <td>0.564706</td>\n",
              "      <td>0.623529</td>\n",
              "      <td>0.674510</td>\n",
              "      <td>0.709804</td>\n",
              "      <td>0.658824</td>\n",
              "      <td>0.631373</td>\n",
              "      <td>0.705882</td>\n",
              "      <td>0.670588</td>\n",
              "      <td>0.658824</td>\n",
              "      <td>0.690196</td>\n",
              "      <td>0.674510</td>\n",
              "      <td>0.658824</td>\n",
              "      <td>0.635294</td>\n",
              "      <td>0.682353</td>\n",
              "      <td>0.682353</td>\n",
              "      <td>0.639216</td>\n",
              "      <td>0.666667</td>\n",
              "      <td>0.654902</td>\n",
              "      <td>0.647059</td>\n",
              "      <td>0.670588</td>\n",
              "      <td>0.682353</td>\n",
              "      <td>0.639216</td>\n",
              "      <td>0.705882</td>\n",
              "      <td>0.729412</td>\n",
              "      <td>0.674510</td>\n",
              "      <td>0.666667</td>\n",
              "      <td>0.639216</td>\n",
              "      <td>0.662745</td>\n",
              "      <td>0.631373</td>\n",
              "      <td>0.643137</td>\n",
              "      <td>0.705882</td>\n",
              "      <td>0.662745</td>\n",
              "      <td>0.705882</td>\n",
              "      <td>0.666667</td>\n",
              "      <td>0.654902</td>\n",
              "      <td>0.631373</td>\n",
              "    </tr>\n",
              "    <tr>\n",
              "      <th>4</th>\n",
              "      <td>0.647059</td>\n",
              "      <td>0.729412</td>\n",
              "      <td>0.701961</td>\n",
              "      <td>0.674510</td>\n",
              "      <td>0.611765</td>\n",
              "      <td>0.698039</td>\n",
              "      <td>0.713726</td>\n",
              "      <td>0.662745</td>\n",
              "      <td>0.701961</td>\n",
              "      <td>0.674510</td>\n",
              "      <td>0.631373</td>\n",
              "      <td>0.709804</td>\n",
              "      <td>0.694118</td>\n",
              "      <td>0.698039</td>\n",
              "      <td>0.666667</td>\n",
              "      <td>0.690196</td>\n",
              "      <td>0.690196</td>\n",
              "      <td>0.682353</td>\n",
              "      <td>0.682353</td>\n",
              "      <td>0.647059</td>\n",
              "      <td>0.678431</td>\n",
              "      <td>0.658824</td>\n",
              "      <td>0.760784</td>\n",
              "      <td>0.729412</td>\n",
              "      <td>0.674510</td>\n",
              "      <td>0.694118</td>\n",
              "      <td>0.698039</td>\n",
              "      <td>0.713726</td>\n",
              "      <td>0.690196</td>\n",
              "      <td>0.698039</td>\n",
              "      <td>0.686275</td>\n",
              "      <td>0.705882</td>\n",
              "      <td>0.662745</td>\n",
              "      <td>0.670588</td>\n",
              "      <td>0.705882</td>\n",
              "      <td>0.682353</td>\n",
              "      <td>0.690196</td>\n",
              "      <td>0.733333</td>\n",
              "      <td>0.709804</td>\n",
              "      <td>0.701961</td>\n",
              "      <td>...</td>\n",
              "      <td>0.639216</td>\n",
              "      <td>0.690196</td>\n",
              "      <td>0.662745</td>\n",
              "      <td>0.658824</td>\n",
              "      <td>0.662745</td>\n",
              "      <td>0.698039</td>\n",
              "      <td>0.603922</td>\n",
              "      <td>0.690196</td>\n",
              "      <td>0.627451</td>\n",
              "      <td>0.627451</td>\n",
              "      <td>0.654902</td>\n",
              "      <td>0.725490</td>\n",
              "      <td>0.650980</td>\n",
              "      <td>0.717647</td>\n",
              "      <td>0.666667</td>\n",
              "      <td>0.709804</td>\n",
              "      <td>0.682353</td>\n",
              "      <td>0.674510</td>\n",
              "      <td>0.721569</td>\n",
              "      <td>0.741176</td>\n",
              "      <td>0.635294</td>\n",
              "      <td>0.615686</td>\n",
              "      <td>0.674510</td>\n",
              "      <td>0.690196</td>\n",
              "      <td>0.658824</td>\n",
              "      <td>0.694118</td>\n",
              "      <td>0.701961</td>\n",
              "      <td>0.670588</td>\n",
              "      <td>0.721569</td>\n",
              "      <td>0.780392</td>\n",
              "      <td>0.639216</td>\n",
              "      <td>0.670588</td>\n",
              "      <td>0.705882</td>\n",
              "      <td>0.674510</td>\n",
              "      <td>0.721569</td>\n",
              "      <td>0.694118</td>\n",
              "      <td>0.674510</td>\n",
              "      <td>0.705882</td>\n",
              "      <td>0.749020</td>\n",
              "      <td>0.729412</td>\n",
              "    </tr>\n",
              "    <tr>\n",
              "      <th>5</th>\n",
              "      <td>0.694118</td>\n",
              "      <td>0.682353</td>\n",
              "      <td>0.705882</td>\n",
              "      <td>0.705882</td>\n",
              "      <td>0.666667</td>\n",
              "      <td>0.694118</td>\n",
              "      <td>0.674510</td>\n",
              "      <td>0.713726</td>\n",
              "      <td>0.690196</td>\n",
              "      <td>0.709804</td>\n",
              "      <td>0.756863</td>\n",
              "      <td>0.690196</td>\n",
              "      <td>0.674510</td>\n",
              "      <td>0.721569</td>\n",
              "      <td>0.713726</td>\n",
              "      <td>0.721569</td>\n",
              "      <td>0.705882</td>\n",
              "      <td>0.678431</td>\n",
              "      <td>0.701961</td>\n",
              "      <td>0.701961</td>\n",
              "      <td>0.709804</td>\n",
              "      <td>0.701961</td>\n",
              "      <td>0.729412</td>\n",
              "      <td>0.713726</td>\n",
              "      <td>0.698039</td>\n",
              "      <td>0.678431</td>\n",
              "      <td>0.694118</td>\n",
              "      <td>0.725490</td>\n",
              "      <td>0.701961</td>\n",
              "      <td>0.686275</td>\n",
              "      <td>0.698039</td>\n",
              "      <td>0.725490</td>\n",
              "      <td>0.709804</td>\n",
              "      <td>0.713726</td>\n",
              "      <td>0.713726</td>\n",
              "      <td>0.701961</td>\n",
              "      <td>0.741176</td>\n",
              "      <td>0.682353</td>\n",
              "      <td>0.721569</td>\n",
              "      <td>0.713726</td>\n",
              "      <td>...</td>\n",
              "      <td>0.690196</td>\n",
              "      <td>0.658824</td>\n",
              "      <td>0.658824</td>\n",
              "      <td>0.678431</td>\n",
              "      <td>0.701961</td>\n",
              "      <td>0.662745</td>\n",
              "      <td>0.678431</td>\n",
              "      <td>0.682353</td>\n",
              "      <td>0.682353</td>\n",
              "      <td>0.713726</td>\n",
              "      <td>0.741176</td>\n",
              "      <td>0.686275</td>\n",
              "      <td>0.737255</td>\n",
              "      <td>0.643137</td>\n",
              "      <td>0.682353</td>\n",
              "      <td>0.690196</td>\n",
              "      <td>0.717647</td>\n",
              "      <td>0.686275</td>\n",
              "      <td>0.737255</td>\n",
              "      <td>0.690196</td>\n",
              "      <td>0.721569</td>\n",
              "      <td>0.713726</td>\n",
              "      <td>0.670588</td>\n",
              "      <td>0.686275</td>\n",
              "      <td>0.749020</td>\n",
              "      <td>0.721569</td>\n",
              "      <td>0.701961</td>\n",
              "      <td>0.709804</td>\n",
              "      <td>0.678431</td>\n",
              "      <td>0.717647</td>\n",
              "      <td>0.658824</td>\n",
              "      <td>0.698039</td>\n",
              "      <td>0.694118</td>\n",
              "      <td>0.709804</td>\n",
              "      <td>0.725490</td>\n",
              "      <td>0.694118</td>\n",
              "      <td>0.729412</td>\n",
              "      <td>0.701961</td>\n",
              "      <td>0.694118</td>\n",
              "      <td>0.709804</td>\n",
              "    </tr>\n",
              "    <tr>\n",
              "      <th>6</th>\n",
              "      <td>0.717647</td>\n",
              "      <td>0.686275</td>\n",
              "      <td>0.760784</td>\n",
              "      <td>0.741176</td>\n",
              "      <td>0.709804</td>\n",
              "      <td>0.725490</td>\n",
              "      <td>0.733333</td>\n",
              "      <td>0.698039</td>\n",
              "      <td>0.654902</td>\n",
              "      <td>0.721569</td>\n",
              "      <td>0.725490</td>\n",
              "      <td>0.729412</td>\n",
              "      <td>0.721569</td>\n",
              "      <td>0.717647</td>\n",
              "      <td>0.709804</td>\n",
              "      <td>0.733333</td>\n",
              "      <td>0.729412</td>\n",
              "      <td>0.721569</td>\n",
              "      <td>0.721569</td>\n",
              "      <td>0.741176</td>\n",
              "      <td>0.690196</td>\n",
              "      <td>0.737255</td>\n",
              "      <td>0.729412</td>\n",
              "      <td>0.721569</td>\n",
              "      <td>0.678431</td>\n",
              "      <td>0.678431</td>\n",
              "      <td>0.741176</td>\n",
              "      <td>0.643137</td>\n",
              "      <td>0.721569</td>\n",
              "      <td>0.752941</td>\n",
              "      <td>0.705882</td>\n",
              "      <td>0.690196</td>\n",
              "      <td>0.737255</td>\n",
              "      <td>0.737255</td>\n",
              "      <td>0.717647</td>\n",
              "      <td>0.690196</td>\n",
              "      <td>0.717647</td>\n",
              "      <td>0.694118</td>\n",
              "      <td>0.709804</td>\n",
              "      <td>0.717647</td>\n",
              "      <td>...</td>\n",
              "      <td>0.709804</td>\n",
              "      <td>0.725490</td>\n",
              "      <td>0.729412</td>\n",
              "      <td>0.733333</td>\n",
              "      <td>0.729412</td>\n",
              "      <td>0.698039</td>\n",
              "      <td>0.694118</td>\n",
              "      <td>0.674510</td>\n",
              "      <td>0.690196</td>\n",
              "      <td>0.686275</td>\n",
              "      <td>0.701961</td>\n",
              "      <td>0.752941</td>\n",
              "      <td>0.752941</td>\n",
              "      <td>0.737255</td>\n",
              "      <td>0.709804</td>\n",
              "      <td>0.717647</td>\n",
              "      <td>0.678431</td>\n",
              "      <td>0.709804</td>\n",
              "      <td>0.678431</td>\n",
              "      <td>0.694118</td>\n",
              "      <td>0.698039</td>\n",
              "      <td>0.737255</td>\n",
              "      <td>0.721569</td>\n",
              "      <td>0.760784</td>\n",
              "      <td>0.725490</td>\n",
              "      <td>0.733333</td>\n",
              "      <td>0.725490</td>\n",
              "      <td>0.694118</td>\n",
              "      <td>0.701961</td>\n",
              "      <td>0.713726</td>\n",
              "      <td>0.705882</td>\n",
              "      <td>0.694118</td>\n",
              "      <td>0.737255</td>\n",
              "      <td>0.713726</td>\n",
              "      <td>0.682353</td>\n",
              "      <td>0.705882</td>\n",
              "      <td>0.713726</td>\n",
              "      <td>0.694118</td>\n",
              "      <td>0.721569</td>\n",
              "      <td>0.701961</td>\n",
              "    </tr>\n",
              "    <tr>\n",
              "      <th>7</th>\n",
              "      <td>0.713726</td>\n",
              "      <td>0.713726</td>\n",
              "      <td>0.658824</td>\n",
              "      <td>0.690196</td>\n",
              "      <td>0.682353</td>\n",
              "      <td>0.705882</td>\n",
              "      <td>0.709804</td>\n",
              "      <td>0.717647</td>\n",
              "      <td>0.733333</td>\n",
              "      <td>0.733333</td>\n",
              "      <td>0.701961</td>\n",
              "      <td>0.725490</td>\n",
              "      <td>0.725490</td>\n",
              "      <td>0.705882</td>\n",
              "      <td>0.698039</td>\n",
              "      <td>0.705882</td>\n",
              "      <td>0.737255</td>\n",
              "      <td>0.733333</td>\n",
              "      <td>0.725490</td>\n",
              "      <td>0.713726</td>\n",
              "      <td>0.756863</td>\n",
              "      <td>0.729412</td>\n",
              "      <td>0.701961</td>\n",
              "      <td>0.737255</td>\n",
              "      <td>0.654902</td>\n",
              "      <td>0.698039</td>\n",
              "      <td>0.733333</td>\n",
              "      <td>0.729412</td>\n",
              "      <td>0.701961</td>\n",
              "      <td>0.678431</td>\n",
              "      <td>0.682353</td>\n",
              "      <td>0.721569</td>\n",
              "      <td>0.737255</td>\n",
              "      <td>0.690196</td>\n",
              "      <td>0.694118</td>\n",
              "      <td>0.745098</td>\n",
              "      <td>0.709804</td>\n",
              "      <td>0.709804</td>\n",
              "      <td>0.721569</td>\n",
              "      <td>0.701961</td>\n",
              "      <td>...</td>\n",
              "      <td>0.725490</td>\n",
              "      <td>0.705882</td>\n",
              "      <td>0.721569</td>\n",
              "      <td>0.701961</td>\n",
              "      <td>0.698039</td>\n",
              "      <td>0.729412</td>\n",
              "      <td>0.713726</td>\n",
              "      <td>0.705882</td>\n",
              "      <td>0.788235</td>\n",
              "      <td>0.705882</td>\n",
              "      <td>0.713726</td>\n",
              "      <td>0.678431</td>\n",
              "      <td>0.721569</td>\n",
              "      <td>0.713726</td>\n",
              "      <td>0.678431</td>\n",
              "      <td>0.701961</td>\n",
              "      <td>0.729412</td>\n",
              "      <td>0.713726</td>\n",
              "      <td>0.709804</td>\n",
              "      <td>0.694118</td>\n",
              "      <td>0.682353</td>\n",
              "      <td>0.678431</td>\n",
              "      <td>0.733333</td>\n",
              "      <td>0.670588</td>\n",
              "      <td>0.705882</td>\n",
              "      <td>0.713726</td>\n",
              "      <td>0.674510</td>\n",
              "      <td>0.741176</td>\n",
              "      <td>0.745098</td>\n",
              "      <td>0.721569</td>\n",
              "      <td>0.690196</td>\n",
              "      <td>0.690196</td>\n",
              "      <td>0.721569</td>\n",
              "      <td>0.709804</td>\n",
              "      <td>0.729412</td>\n",
              "      <td>0.729412</td>\n",
              "      <td>0.694118</td>\n",
              "      <td>0.733333</td>\n",
              "      <td>0.721569</td>\n",
              "      <td>0.694118</td>\n",
              "    </tr>\n",
              "    <tr>\n",
              "      <th>8</th>\n",
              "      <td>0.658824</td>\n",
              "      <td>0.678431</td>\n",
              "      <td>0.729412</td>\n",
              "      <td>0.690196</td>\n",
              "      <td>0.705882</td>\n",
              "      <td>0.678431</td>\n",
              "      <td>0.658824</td>\n",
              "      <td>0.670588</td>\n",
              "      <td>0.713726</td>\n",
              "      <td>0.670588</td>\n",
              "      <td>0.654902</td>\n",
              "      <td>0.682353</td>\n",
              "      <td>0.647059</td>\n",
              "      <td>0.654902</td>\n",
              "      <td>0.662745</td>\n",
              "      <td>0.654902</td>\n",
              "      <td>0.717647</td>\n",
              "      <td>0.709804</td>\n",
              "      <td>0.670588</td>\n",
              "      <td>0.686275</td>\n",
              "      <td>0.615686</td>\n",
              "      <td>0.690196</td>\n",
              "      <td>0.678431</td>\n",
              "      <td>0.741176</td>\n",
              "      <td>0.698039</td>\n",
              "      <td>0.709804</td>\n",
              "      <td>0.725490</td>\n",
              "      <td>0.639216</td>\n",
              "      <td>0.670588</td>\n",
              "      <td>0.717647</td>\n",
              "      <td>0.741176</td>\n",
              "      <td>0.701961</td>\n",
              "      <td>0.615686</td>\n",
              "      <td>0.690196</td>\n",
              "      <td>0.745098</td>\n",
              "      <td>0.686275</td>\n",
              "      <td>0.635294</td>\n",
              "      <td>0.619608</td>\n",
              "      <td>0.654902</td>\n",
              "      <td>0.654902</td>\n",
              "      <td>...</td>\n",
              "      <td>0.698039</td>\n",
              "      <td>0.690196</td>\n",
              "      <td>0.698039</td>\n",
              "      <td>0.686275</td>\n",
              "      <td>0.698039</td>\n",
              "      <td>0.670588</td>\n",
              "      <td>0.686275</td>\n",
              "      <td>0.678431</td>\n",
              "      <td>0.694118</td>\n",
              "      <td>0.678431</td>\n",
              "      <td>0.654902</td>\n",
              "      <td>0.682353</td>\n",
              "      <td>0.717647</td>\n",
              "      <td>0.698039</td>\n",
              "      <td>0.741176</td>\n",
              "      <td>0.705882</td>\n",
              "      <td>0.686275</td>\n",
              "      <td>0.768628</td>\n",
              "      <td>0.694118</td>\n",
              "      <td>0.643137</td>\n",
              "      <td>0.670588</td>\n",
              "      <td>0.674510</td>\n",
              "      <td>0.709804</td>\n",
              "      <td>0.682353</td>\n",
              "      <td>0.721569</td>\n",
              "      <td>0.666667</td>\n",
              "      <td>0.596078</td>\n",
              "      <td>0.603922</td>\n",
              "      <td>0.694118</td>\n",
              "      <td>0.678431</td>\n",
              "      <td>0.721569</td>\n",
              "      <td>0.694118</td>\n",
              "      <td>0.717647</td>\n",
              "      <td>0.701961</td>\n",
              "      <td>0.627451</td>\n",
              "      <td>0.650980</td>\n",
              "      <td>0.686275</td>\n",
              "      <td>0.690196</td>\n",
              "      <td>0.698039</td>\n",
              "      <td>0.721569</td>\n",
              "    </tr>\n",
              "    <tr>\n",
              "      <th>9</th>\n",
              "      <td>0.721569</td>\n",
              "      <td>0.729412</td>\n",
              "      <td>0.764706</td>\n",
              "      <td>0.709804</td>\n",
              "      <td>0.701961</td>\n",
              "      <td>0.658824</td>\n",
              "      <td>0.709804</td>\n",
              "      <td>0.709804</td>\n",
              "      <td>0.698039</td>\n",
              "      <td>0.717647</td>\n",
              "      <td>0.694118</td>\n",
              "      <td>0.725490</td>\n",
              "      <td>0.694118</td>\n",
              "      <td>0.686275</td>\n",
              "      <td>0.682353</td>\n",
              "      <td>0.647059</td>\n",
              "      <td>0.678431</td>\n",
              "      <td>0.686275</td>\n",
              "      <td>0.721569</td>\n",
              "      <td>0.733333</td>\n",
              "      <td>0.701961</td>\n",
              "      <td>0.670588</td>\n",
              "      <td>0.674510</td>\n",
              "      <td>0.694118</td>\n",
              "      <td>0.682353</td>\n",
              "      <td>0.658824</td>\n",
              "      <td>0.701961</td>\n",
              "      <td>0.701961</td>\n",
              "      <td>0.705882</td>\n",
              "      <td>0.682353</td>\n",
              "      <td>0.721569</td>\n",
              "      <td>0.686275</td>\n",
              "      <td>0.705882</td>\n",
              "      <td>0.709804</td>\n",
              "      <td>0.729412</td>\n",
              "      <td>0.721569</td>\n",
              "      <td>0.698039</td>\n",
              "      <td>0.737255</td>\n",
              "      <td>0.666667</td>\n",
              "      <td>0.694118</td>\n",
              "      <td>...</td>\n",
              "      <td>0.686275</td>\n",
              "      <td>0.701961</td>\n",
              "      <td>0.709804</td>\n",
              "      <td>0.694118</td>\n",
              "      <td>0.701961</td>\n",
              "      <td>0.678431</td>\n",
              "      <td>0.682353</td>\n",
              "      <td>0.725490</td>\n",
              "      <td>0.682353</td>\n",
              "      <td>0.725490</td>\n",
              "      <td>0.721569</td>\n",
              "      <td>0.721569</td>\n",
              "      <td>0.737255</td>\n",
              "      <td>0.654902</td>\n",
              "      <td>0.737255</td>\n",
              "      <td>0.756863</td>\n",
              "      <td>0.737255</td>\n",
              "      <td>0.733333</td>\n",
              "      <td>0.690196</td>\n",
              "      <td>0.717647</td>\n",
              "      <td>0.705882</td>\n",
              "      <td>0.749020</td>\n",
              "      <td>0.713726</td>\n",
              "      <td>0.709804</td>\n",
              "      <td>0.682353</td>\n",
              "      <td>0.662745</td>\n",
              "      <td>0.717647</td>\n",
              "      <td>0.650980</td>\n",
              "      <td>0.694118</td>\n",
              "      <td>0.717647</td>\n",
              "      <td>0.650980</td>\n",
              "      <td>0.670588</td>\n",
              "      <td>0.745098</td>\n",
              "      <td>0.698039</td>\n",
              "      <td>0.745098</td>\n",
              "      <td>0.745098</td>\n",
              "      <td>0.694118</td>\n",
              "      <td>0.729412</td>\n",
              "      <td>0.756863</td>\n",
              "      <td>0.709804</td>\n",
              "    </tr>\n",
              "  </tbody>\n",
              "</table>\n",
              "<p>10 rows × 8192 columns</p>\n",
              "</div>"
            ],
            "text/plain": [
              "       0         1         2     ...      8189      8190      8191\n",
              "0  0.631373  0.623529  0.713726  ...  0.694118  0.658824  0.666667\n",
              "1  0.725490  0.752941  0.749020  ...  0.698039  0.701961  0.725490\n",
              "2  0.717647  0.701961  0.713726  ...  0.678431  0.737255  0.674510\n",
              "3  0.705882  0.674510  0.654902  ...  0.666667  0.654902  0.631373\n",
              "4  0.647059  0.729412  0.701961  ...  0.705882  0.749020  0.729412\n",
              "5  0.694118  0.682353  0.705882  ...  0.701961  0.694118  0.709804\n",
              "6  0.717647  0.686275  0.760784  ...  0.694118  0.721569  0.701961\n",
              "7  0.713726  0.713726  0.658824  ...  0.733333  0.721569  0.694118\n",
              "8  0.658824  0.678431  0.729412  ...  0.690196  0.698039  0.721569\n",
              "9  0.721569  0.729412  0.764706  ...  0.729412  0.756863  0.709804\n",
              "\n",
              "[10 rows x 8192 columns]"
            ]
          },
          "metadata": {
            "tags": []
          },
          "execution_count": 54
        }
      ]
    },
    {
      "cell_type": "code",
      "metadata": {
        "id": "YiT1vI7wWdkw",
        "colab_type": "code",
        "colab": {
          "base_uri": "https://localhost:8080/",
          "height": 197
        },
        "outputId": "8fcfb700-b803-4226-d908-9d88fa27f031"
      },
      "source": [
        "train_labels.head(5) # SETI has encode them as OneHot Vectors"
      ],
      "execution_count": 8,
      "outputs": [
        {
          "output_type": "execute_result",
          "data": {
            "text/html": [
              "<div>\n",
              "<style scoped>\n",
              "    .dataframe tbody tr th:only-of-type {\n",
              "        vertical-align: middle;\n",
              "    }\n",
              "\n",
              "    .dataframe tbody tr th {\n",
              "        vertical-align: top;\n",
              "    }\n",
              "\n",
              "    .dataframe thead th {\n",
              "        text-align: right;\n",
              "    }\n",
              "</style>\n",
              "<table border=\"1\" class=\"dataframe\">\n",
              "  <thead>\n",
              "    <tr style=\"text-align: right;\">\n",
              "      <th></th>\n",
              "      <th>0</th>\n",
              "      <th>1</th>\n",
              "      <th>2</th>\n",
              "      <th>3</th>\n",
              "    </tr>\n",
              "  </thead>\n",
              "  <tbody>\n",
              "    <tr>\n",
              "      <th>0</th>\n",
              "      <td>1.0</td>\n",
              "      <td>0.0</td>\n",
              "      <td>0.0</td>\n",
              "      <td>0.0</td>\n",
              "    </tr>\n",
              "    <tr>\n",
              "      <th>1</th>\n",
              "      <td>1.0</td>\n",
              "      <td>0.0</td>\n",
              "      <td>0.0</td>\n",
              "      <td>0.0</td>\n",
              "    </tr>\n",
              "    <tr>\n",
              "      <th>2</th>\n",
              "      <td>1.0</td>\n",
              "      <td>0.0</td>\n",
              "      <td>0.0</td>\n",
              "      <td>0.0</td>\n",
              "    </tr>\n",
              "    <tr>\n",
              "      <th>3</th>\n",
              "      <td>1.0</td>\n",
              "      <td>0.0</td>\n",
              "      <td>0.0</td>\n",
              "      <td>0.0</td>\n",
              "    </tr>\n",
              "    <tr>\n",
              "      <th>4</th>\n",
              "      <td>1.0</td>\n",
              "      <td>0.0</td>\n",
              "      <td>0.0</td>\n",
              "      <td>0.0</td>\n",
              "    </tr>\n",
              "  </tbody>\n",
              "</table>\n",
              "</div>"
            ],
            "text/plain": [
              "     0    1    2    3\n",
              "0  1.0  0.0  0.0  0.0\n",
              "1  1.0  0.0  0.0  0.0\n",
              "2  1.0  0.0  0.0  0.0\n",
              "3  1.0  0.0  0.0  0.0\n",
              "4  1.0  0.0  0.0  0.0"
            ]
          },
          "metadata": {
            "tags": []
          },
          "execution_count": 8
        }
      ]
    },
    {
      "cell_type": "code",
      "metadata": {
        "id": "E0WpvknBb2up",
        "colab_type": "code",
        "colab": {
          "base_uri": "https://localhost:8080/",
          "height": 52
        },
        "outputId": "2834509d-4268-4333-c20c-69e427c0ea28"
      },
      "source": [
        "print(\"Training set shape:\", train_images.shape, train_labels.shape)\n",
        "print(\"Validation set shape:\", val_images.shape, val_labels.shape)"
      ],
      "execution_count": 9,
      "outputs": [
        {
          "output_type": "stream",
          "text": [
            "Training set shape: (3200, 8192) (3200, 4)\n",
            "Validation set shape: (800, 8192) (800, 4)\n"
          ],
          "name": "stdout"
        }
      ]
    },
    {
      "cell_type": "markdown",
      "metadata": {
        "id": "9mW9nrCoeAN9",
        "colab_type": "text"
      },
      "source": [
        "> __64 x 128 = 8192 Width * height matrix i.e the dimension of the images here__"
      ]
    },
    {
      "cell_type": "markdown",
      "metadata": {
        "id": "FC_LlcFQeZvo",
        "colab_type": "text"
      },
      "source": [
        "### __Reshaping the Images for both Training and Validation__"
      ]
    },
    {
      "cell_type": "code",
      "metadata": {
        "id": "dFr8f8mHcfRR",
        "colab_type": "code",
        "colab": {}
      },
      "source": [
        "x_train = train_images.values.reshape(3200, 64, 128, 1)\n",
        "x_val = val_images.values.reshape(800, 64, 128, 1)\n",
        "\n",
        "y_train = train_labels.values\n",
        "y_val = val_labels.values"
      ],
      "execution_count": 10,
      "outputs": []
    },
    {
      "cell_type": "markdown",
      "metadata": {
        "id": "6OAKLYjSfcuL",
        "colab_type": "text"
      },
      "source": [
        "- `train_images` is a __Pandas Dataframe__ and we want to shape the __numpy__ array, so we need to type the values, so that we can get an N-dim __Numpy Array__ and then we added `.shape()`  to shape it.\n",
        "\n",
        "- _(training_Examples=3200, width=64, heght=128, Channel information=1)_\n",
        "\n",
        "- Since of this information is been converted to __2D__ Spectrogram, Hence we don't have any __RGB__ information"
      ]
    },
    {
      "cell_type": "markdown",
      "metadata": {
        "id": "na1WFJhCigsL",
        "colab_type": "text"
      },
      "source": [
        "# __3. Plot 2D Spectrograms__"
      ]
    },
    {
      "cell_type": "code",
      "metadata": {
        "id": "0Ku5bmH0iAe1",
        "colab_type": "code",
        "colab": {
          "base_uri": "https://localhost:8080/",
          "height": 133
        },
        "outputId": "e49aa95e-1842-4329-c9a1-b17ca4e2036a"
      },
      "source": [
        "plt.figure(0, figsize=(12,12))\n",
        "for i in range(1,4):\n",
        "    plt.subplot(1,3,i)\n",
        "    img = np.squeeze(x_train[np.random.randint(0, x_train.shape[0])])\n",
        "    plt.xticks([])\n",
        "    plt.yticks([])\n",
        "    plt.imshow(img, cmap='gray')"
      ],
      "execution_count": 53,
      "outputs": [
        {
          "output_type": "display_data",
          "data": {
            "image/png": "[encoded data removed]",
            "text/plain": [
              "<Figure size 864x864 with 3 Axes>"
            ]
          },
          "metadata": {
            "tags": []
          }
        }
      ]
    },
    {
      "cell_type": "markdown",
      "metadata": {
        "id": "jMZ2PvCimVc4",
        "colab_type": "text"
      },
      "source": [
        "- Creatingg One subPlot with 3 images in them, This is achived by looping the range(1, 4)\n",
        "\n",
        "- Then Using Matplotlib subplot helper function with 1 rows and 3 column\n",
        "\n",
        "- Then we create the image for our numpy array\n",
        "\n",
        "- `np.squeez` is used to remove the extra axis i.e  the cahnnel inforamtion `(800, 64, 128, 1)` hence numpy is used to remove that additional axis\n",
        "\n",
        "- Then we set the xticks & yticks as a blank list.\n",
        "\n",
        "- Every output image corrospond to an class i.e squgel, narrow band or Noise."
      ]
    },
    {
      "cell_type": "code",
      "metadata": {
        "id": "r1N5KriTmR-W",
        "colab_type": "code",
        "colab": {
          "base_uri": "https://localhost:8080/",
          "height": 235
        },
        "outputId": "586ea51a-6f7a-4290-8def-37c3295f8d13"
      },
      "source": [
        "# Setting the color_map argument to gray Scale images\n",
        "plt.imshow(np.squeeze(x_train[3]), cmap='gray')"
      ],
      "execution_count": 12,
      "outputs": [
        {
          "output_type": "execute_result",
          "data": {
            "text/plain": [
              "<matplotlib.image.AxesImage at 0x7fcb02a74518>"
            ]
          },
          "metadata": {
            "tags": []
          },
          "execution_count": 12
        },
        {
          "output_type": "display_data",
          "data": {
            "image/png": "[encoded data removed]",
            "text/plain": [
              "<Figure size 432x288 with 1 Axes>"
            ]
          },
          "metadata": {
            "tags": [],
            "needs_background": "light"
          }
        }
      ]
    },
    {
      "cell_type": "markdown",
      "metadata": {
        "id": "EgilVIbGqWy4",
        "colab_type": "text"
      },
      "source": [
        "# __4. Create Training and Validation Data Generators__"
      ]
    },
    {
      "cell_type": "markdown",
      "metadata": {
        "id": "RiIo4xDGyG7T",
        "colab_type": "text"
      },
      "source": [
        "$\\color{red}{\\textbf{NOTE:}}$ Our __Data__ is already __Normalise__ hence no __Normalization__ is required."
      ]
    },
    {
      "cell_type": "code",
      "metadata": {
        "id": "-VRxelMypuoc",
        "colab_type": "code",
        "colab": {}
      },
      "source": [
        "# Performing the Keras Preprocessing\n",
        "# Only one aspect Data Augmentation is Performed\n",
        "# i.e ->> Randomly fliping the images along the Horizontal axis\n",
        "from tensorflow.keras.preprocessing.image import ImageDataGenerator\n",
        "\n",
        "# Fitting the DataGenerator so that it can learn the Statistics and properties about the training images\n",
        "datagen_train = ImageDataGenerator(horizontal_flip = True)\n",
        "datagen_train.fit(x_train)\n",
        "\n",
        "datagen_val = ImageDataGenerator(horizontal_flip = True)\n",
        "datagen_val.fit(x_val)"
      ],
      "execution_count": 13,
      "outputs": []
    },
    {
      "cell_type": "markdown",
      "metadata": {
        "id": "yUSN3sBmxqE9",
        "colab_type": "text"
      },
      "source": [
        "USe the Following command to genrate the documentation `ImageDataGenerator?` "
      ]
    },
    {
      "cell_type": "markdown",
      "metadata": {
        "id": "Pj3iEwt_zGCA",
        "colab_type": "text"
      },
      "source": [
        "# __5. Creating the CNN Model__"
      ]
    },
    {
      "cell_type": "code",
      "metadata": {
        "id": "j8crZHT0tnfj",
        "colab_type": "code",
        "colab": {}
      },
      "source": [
        "from tensorflow.keras.layers import Dense, Input, Dropout,Flatten, Conv2D\n",
        "from tensorflow.keras.layers import BatchNormalization, Activation, MaxPooling2D\n",
        "\n",
        "from tensorflow.keras.models import Model, Sequential\n",
        "from tensorflow.keras.optimizers import Adam\n",
        "from tensorflow.keras.callbacks import ModelCheckpoint"
      ],
      "execution_count": 14,
      "outputs": []
    },
    {
      "cell_type": "markdown",
      "metadata": {
        "id": "x-yPck7e2Kd6",
        "colab_type": "text"
      },
      "source": [
        "- Filter/Kernal = 5 x 5\n",
        "- Input Channel = 1 corresponding to the Gray scale Images\n",
        "- We need 32 different feature Maps i,e 32 different \n",
        "- Output of CNNs = 64 x 128 x 32"
      ]
    },
    {
      "cell_type": "code",
      "metadata": {
        "id": "Qm6kGeWLtwQz",
        "colab_type": "code",
        "colab": {}
      },
      "source": [
        "# Initialising the CNN\n",
        "model = Sequential()\n",
        "\n",
        "# 1st Convolution\n",
        "model.add(Conv2D(32, (5,5), padding = 'same', input_shape = (64, 128, 1))) # '1' for greyscale Image\n",
        "model.add(BatchNormalization())\n",
        "model.add(Activation('relu'))\n",
        "model.add(MaxPooling2D(pool_size = (2, 2)))\n",
        "model.add(Dropout(0.25))\n",
        "\n",
        "\n",
        "# 2nd Convolution layer\n",
        "model.add(Conv2D(64, (5,5), padding = 'same'))\n",
        "model.add(BatchNormalization())\n",
        "model.add(Activation('relu'))\n",
        "model.add(MaxPooling2D(pool_size = (2, 2)))\n",
        "model.add(Dropout(0.25))\n",
        "\n",
        "# Flattening\n",
        "model.add(Flatten())\n",
        "\n",
        "# Fully connected layer\n",
        "model.add(Dense(1024))\n",
        "model.add(BatchNormalization())\n",
        "model.add(Activation('relu'))\n",
        "model.add(Dropout(0.4))      # Since we are using the larger Number or Neurons\n",
        "                             # Hence we are setting a higher Dropout Regularization rate\n",
        "\n",
        "# Adding the last dense Output layer ->> SOFTMAX\n",
        "\n",
        "model.add(Dense(4, activation = 'softmax')) # '4' as output has 4 classes"
      ],
      "execution_count": 15,
      "outputs": []
    },
    {
      "cell_type": "markdown",
      "metadata": {
        "id": "rpczyNXd7Jeu",
        "colab_type": "text"
      },
      "source": [
        "# 6. __Learning Rate Scheduling and Compile the Model__"
      ]
    },
    {
      "cell_type": "code",
      "metadata": {
        "id": "wI_ZKa0B7J94",
        "colab_type": "code",
        "colab": {}
      },
      "source": [
        "# Scheduling the Learning Rate\n",
        "initial_learning_rate = 0.005\n",
        "lr_schedule = tf.keras.optimizers.schedules.ExponentialDecay(\n",
        "    initial_learning_rate = initial_learning_rate,\n",
        "    decay_steps = 5,\n",
        "    decay_rate = 0.96,\n",
        "    staircase = True\n",
        ")\n",
        "\n",
        "# SettingUp the optimizer \n",
        "opt = Adam(learning_rate = lr_schedule)"
      ],
      "execution_count": 47,
      "outputs": []
    },
    {
      "cell_type": "code",
      "metadata": {
        "id": "_LTtDhJv7J6F",
        "colab_type": "code",
        "colab": {
          "base_uri": "https://localhost:8080/",
          "height": 727
        },
        "outputId": "2ca145cb-7552-4408-cc05-493315eb73b0"
      },
      "source": [
        "# Compiling Our Model\n",
        "model.compile(optimizer = opt, loss = 'categorical_crossentropy', metrics = ['accuracy'])\n",
        "model.summary()"
      ],
      "execution_count": 48,
      "outputs": [
        {
          "output_type": "stream",
          "text": [
            "Model: \"sequential\"\n",
            "_________________________________________________________________\n",
            "Layer (type)                 Output Shape              Param #   \n",
            "=================================================================\n",
            "conv2d (Conv2D)              (None, 64, 128, 32)       832       \n",
            "_________________________________________________________________\n",
            "batch_normalization (BatchNo (None, 64, 128, 32)       128       \n",
            "_________________________________________________________________\n",
            "activation (Activation)      (None, 64, 128, 32)       0         \n",
            "_________________________________________________________________\n",
            "max_pooling2d (MaxPooling2D) (None, 32, 64, 32)        0         \n",
            "_________________________________________________________________\n",
            "dropout (Dropout)            (None, 32, 64, 32)        0         \n",
            "_________________________________________________________________\n",
            "conv2d_1 (Conv2D)            (None, 32, 64, 64)        51264     \n",
            "_________________________________________________________________\n",
            "batch_normalization_1 (Batch (None, 32, 64, 64)        256       \n",
            "_________________________________________________________________\n",
            "activation_1 (Activation)    (None, 32, 64, 64)        0         \n",
            "_________________________________________________________________\n",
            "max_pooling2d_1 (MaxPooling2 (None, 16, 32, 64)        0         \n",
            "_________________________________________________________________\n",
            "dropout_1 (Dropout)          (None, 16, 32, 64)        0         \n",
            "_________________________________________________________________\n",
            "flatten (Flatten)            (None, 32768)             0         \n",
            "_________________________________________________________________\n",
            "dense (Dense)                (None, 1024)              33555456  \n",
            "_________________________________________________________________\n",
            "batch_normalization_2 (Batch (None, 1024)              4096      \n",
            "_________________________________________________________________\n",
            "activation_2 (Activation)    (None, 1024)              0         \n",
            "_________________________________________________________________\n",
            "dropout_2 (Dropout)          (None, 1024)              0         \n",
            "_________________________________________________________________\n",
            "dense_1 (Dense)              (None, 4)                 4100      \n",
            "=================================================================\n",
            "Total params: 33,616,132\n",
            "Trainable params: 33,613,892\n",
            "Non-trainable params: 2,240\n",
            "_________________________________________________________________\n"
          ],
          "name": "stdout"
        }
      ]
    },
    {
      "cell_type": "markdown",
      "metadata": {
        "id": "AaCD-P5lBuIQ",
        "colab_type": "text"
      },
      "source": [
        "# __7. Training the Model__"
      ]
    },
    {
      "cell_type": "code",
      "metadata": {
        "id": "RjUF9RHEBw1o",
        "colab_type": "code",
        "colab": {
          "base_uri": "https://localhost:8080/",
          "height": 485
        },
        "outputId": "40c706be-5f97-4853-8c44-b30f6fa233c6"
      },
      "source": [
        "from livelossplot import PlotLossesKerasTF\n",
        "from tensorflow.keras.callbacks import ModelCheckpoint, ReduceLROnPlateau\n",
        "\n",
        "# Creating the checkpoints i.e Saving the weights with maximum Validation accuracy\n",
        "checkpoint = ModelCheckpoint('model_weights.h5',\n",
        "                             monitor = 'val_accuracy',\n",
        "                             save_weights_only = True,\n",
        "                             mode = 'max',\n",
        "                             verbose = 1)\n",
        "\n",
        "# Callbacks\n",
        "my_callbacks = [PlotLossesKerasTF(), checkpoint]\n",
        "\n",
        "batch_size = 32\n",
        "history = model.fit(\n",
        "    datagen_train.flow(x_train, y_train, batch_size=batch_size, shuffle=True),\n",
        "    steps_per_epoch=len(x_train)//batch_size,\n",
        "    validation_data = datagen_val.flow(x_val, y_val, batch_size=batch_size, shuffle=True),\n",
        "    validation_steps = len(x_val)//batch_size,\n",
        "    epochs = 15,\n",
        "    callbacks = my_callbacks\n",
        ")"
      ],
      "execution_count": 49,
      "outputs": [
        {
          "output_type": "display_data",
          "data": {
            "image/png": "[encoded data removed]",
            "text/plain": [
              "<Figure size 864x576 with 2 Axes>"
            ]
          },
          "metadata": {
            "tags": [],
            "needs_background": "light"
          }
        },
        {
          "output_type": "stream",
          "text": [
            "accuracy\n",
            "\ttraining         \t (min:    0.730, max:    0.767, cur:    0.751)\n",
            "\tvalidation       \t (min:    0.250, max:    0.771, cur:    0.762)\n",
            "Loss\n",
            "\ttraining         \t (min:    0.356, max:    0.474, cur:    0.362)\n",
            "\tvalidation       \t (min:    0.355, max:  283.397, cur:    0.356)\n",
            "\n",
            "Epoch 00015: saving model to model_weights.h5\n",
            "100/100 [==============================] - 5s 55ms/step - loss: 0.3623 - accuracy: 0.7509 - val_loss: 0.3556 - val_accuracy: 0.7625\n"
          ],
          "name": "stdout"
        }
      ]
    },
    {
      "cell_type": "markdown",
      "metadata": {
        "id": "jiQ0SD4hkrc_",
        "colab_type": "text"
      },
      "source": [
        "# __8. Model Evaluation__"
      ]
    },
    {
      "cell_type": "code",
      "metadata": {
        "id": "fm1SA9M4krEU",
        "colab_type": "code",
        "colab": {
          "base_uri": "https://localhost:8080/",
          "height": 52
        },
        "outputId": "2e209eef-e9bc-4553-f9eb-d4a7ab239fda"
      },
      "source": [
        "model.evaluate(x_val, y_val)"
      ],
      "execution_count": 50,
      "outputs": [
        {
          "output_type": "stream",
          "text": [
            "25/25 [==============================] - 0s 16ms/step - loss: 0.3558 - accuracy: 0.7663\n"
          ],
          "name": "stdout"
        },
        {
          "output_type": "execute_result",
          "data": {
            "text/plain": [
              "[0.3558097779750824, 0.7662500143051147]"
            ]
          },
          "metadata": {
            "tags": []
          },
          "execution_count": 50
        }
      ]
    },
    {
      "cell_type": "code",
      "metadata": {
        "id": "gXzwlgd6kz-d",
        "colab_type": "code",
        "colab": {
          "base_uri": "https://localhost:8080/",
          "height": 230
        },
        "outputId": "70370ee1-385a-4922-ae05-a111d058e001"
      },
      "source": [
        "from sklearn.metrics import confusion_matrix\n",
        "from sklearn import metrics\n",
        "import seaborn as sns\n",
        "\n",
        "y_true = np.argmax(y_val, 1)\n",
        "y_pred = np.argmax(model.predict(x_val), 1)\n",
        "print(metrics.classification_report(y_true, y_pred))\n",
        "print(\"Classification accuracy: %0.6f\" % metrics.accuracy_score(y_true, y_pred))"
      ],
      "execution_count": 51,
      "outputs": [
        {
          "output_type": "stream",
          "text": [
            "              precision    recall  f1-score   support\n",
            "\n",
            "           0       1.00      0.99      1.00       200\n",
            "           1       0.53      0.57      0.55       200\n",
            "           2       0.53      0.50      0.52       200\n",
            "           3       1.00      1.00      1.00       200\n",
            "\n",
            "    accuracy                           0.77       800\n",
            "   macro avg       0.77      0.77      0.77       800\n",
            "weighted avg       0.77      0.77      0.77       800\n",
            "\n",
            "Classification accuracy: 0.766250\n"
          ],
          "name": "stdout"
        }
      ]
    },
    {
      "cell_type": "code",
      "metadata": {
        "id": "TOId_34Ek3Jd",
        "colab_type": "code",
        "colab": {
          "base_uri": "https://localhost:8080/",
          "height": 310
        },
        "outputId": "ba9c05c2-bbb7-4df1-9704-1e519039e304"
      },
      "source": [
        "labels = [\"squiggle\", \"narrowband\", \"noise\", \"narrowbanddrd\"]\n",
        "\n",
        "ax= plt.subplot()\n",
        "sns.heatmap(metrics.confusion_matrix(y_true, y_pred, normalize='true'), annot=True, ax = ax, cmap=plt.cm.Blues); #annot=True to annotate cells\n",
        "\n",
        "# labels, title and ticks\n",
        "ax.set_title('Confusion Matrix'); \n",
        "ax.xaxis.set_ticklabels(labels); ax.yaxis.set_ticklabels(labels);"
      ],
      "execution_count": 52,
      "outputs": [
        {
          "output_type": "display_data",
          "data": {
            "image/png": "[encoded data removed]",
            "text/plain": [
              "<Figure size 432x288 with 2 Axes>"
            ]
          },
          "metadata": {
            "tags": [],
            "needs_background": "light"
          }
        }
      ]
    }
  ]
}